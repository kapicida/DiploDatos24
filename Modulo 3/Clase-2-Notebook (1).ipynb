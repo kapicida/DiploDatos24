{
 "cells": [
  {
   "cell_type": "markdown",
   "metadata": {},
   "source": [
    "# Diplomatura en Ciencia de Datos - UNNE - 2024\n",
    "### Módulo 4: Aprendizaje Automático\n",
    "### Clase 2: Modelos lineales para clasificación"
   ]
  },
  {
   "cell_type": "code",
   "execution_count": null,
   "metadata": {},
   "outputs": [],
   "source": [
    "import numpy as np\n",
    "import pandas as pd\n",
    "import matplotlib.pyplot as plt"
   ]
  },
  {
   "cell_type": "code",
   "execution_count": null,
   "metadata": {},
   "outputs": [],
   "source": [
    "df = pd.read_csv('iris.csv')\n",
    "df"
   ]
  },
  {
   "cell_type": "code",
   "execution_count": null,
   "metadata": {},
   "outputs": [],
   "source": [
    "df.info()"
   ]
  },
  {
   "cell_type": "code",
   "execution_count": null,
   "metadata": {},
   "outputs": [],
   "source": [
    "#Nos quedamos solo con dos especies de Iris\n",
    "filtered_df = df[df['variety'].isin(['Setosa', 'Virginica'])]\n",
    "filtered_df"
   ]
  },
  {
   "cell_type": "code",
   "execution_count": null,
   "metadata": {},
   "outputs": [],
   "source": [
    "df['variety'].value_counts()"
   ]
  },
  {
   "cell_type": "code",
   "execution_count": null,
   "metadata": {},
   "outputs": [],
   "source": [
    "filtered_df['variety'].value_counts()"
   ]
  },
  {
   "cell_type": "code",
   "execution_count": null,
   "metadata": {},
   "outputs": [],
   "source": [
    "clase0 = df[df['variety'].isin(['Setosa'])]\n",
    "clase0.drop(columns='variety', inplace=True)\n",
    "\n",
    "clase1 = df[df['variety'].isin(['Virginica'])]\n",
    "clase1.drop(columns='variety', inplace=True)"
   ]
  },
  {
   "cell_type": "code",
   "execution_count": null,
   "metadata": {},
   "outputs": [],
   "source": [
    "print(clase1)"
   ]
  },
  {
   "cell_type": "code",
   "execution_count": null,
   "metadata": {},
   "outputs": [],
   "source": [
    "clase0 = clase0.to_numpy()\n",
    "clase1 = clase1.to_numpy()"
   ]
  },
  {
   "cell_type": "code",
   "execution_count": null,
   "metadata": {},
   "outputs": [],
   "source": [
    "clase0.shape"
   ]
  },
  {
   "cell_type": "code",
   "execution_count": null,
   "metadata": {},
   "outputs": [],
   "source": [
    "def sigmoide(z):\n",
    "    return 1/(1+np.exp(-z))"
   ]
  },
  {
   "cell_type": "code",
   "execution_count": null,
   "metadata": {},
   "outputs": [],
   "source": [
    "def entrenar(x_train, y_train):\n",
    "    for i in range(len(pesos)):\n",
    "        suma1 = 0\n",
    "        for k in range(N):\n",
    "            suma1 += (sigmoide(modelo(x_train[k]))-y_train[k])*pesos[i]\n",
    "        suma1*= 1/N\n",
    "        pesos[i] -= lr*suma1\n",
    "\n",
    "    suma2 = 0\n",
    "    for k in range(N):\n",
    "        suma2 += (sigmoide(modelo(x_train[k]))-y_train[k])\n",
    "    suma2*= 1/N\n",
    "    b[0] -=lr*suma2   "
   ]
  },
  {
   "cell_type": "code",
   "execution_count": null,
   "metadata": {},
   "outputs": [],
   "source": [
    "def optimizar(x_train, y_train):\n",
    "    global lr, b\n",
    "    z = np.dot(x_train,pesos)+b\n",
    "    a = sigmoide(z)\n",
    "    for i in range(len(pesos)):\n",
    "        suma1 = 0\n",
    "        for k in range(x_train.shape[0]):\n",
    "            suma1 += (a[k]-y_train[k])*pesos[i]\n",
    "        suma1*= 1/(x_train.shape[0])\n",
    "        pesos[i] -= lr*suma1\n",
    "\n",
    "    suma2 = 0\n",
    "    for k in range(x_train.shape[0]):\n",
    "        suma2 += (a[k]-y_train[k])\n",
    "    suma2*= 1/(x_train.shape[0])\n",
    "    b[0] -=lr*suma2\n",
    "\n",
    "def loss(x, y):\n",
    "    z = np.dot(x,pesos)+b\n",
    "    a = sigmoide(z)\n",
    "    suma = 0\n",
    "    for i in range(x.shape[0]):\n",
    "        suma += y[i]*np.log(a[i])+(1-y[i])*np.log(1-a[i])\n",
    "    suma *= (-1/x.shape[0])\n",
    "    return suma\n",
    "\n",
    "def ejecutar_modelo(epochs):\n",
    "    global pesos, b, perdida, validacion\n",
    "    pesos = np.random.normal(loc=1, scale=0.1, size=x_train.shape[1])\n",
    "    b = np.random.normal(loc=0, scale=0.1, size=1)\n",
    "    perdida = []\n",
    "    validacion = []\n",
    "\n",
    "    for i in range(epochs):\n",
    "        optimizar(x_train, y_train)\n",
    "        perdida.append(loss(x_train, y_train))\n",
    "        validacion.append(loss(x_val, y_val))\n",
    "        \n",
    "    plt.plot(perdida, color = 'red')\n",
    "    plt.plot(validacion, color ='blue')\n",
    "    plt.show()\n"
   ]
  },
  {
   "cell_type": "code",
   "execution_count": null,
   "metadata": {},
   "outputs": [],
   "source": [
    "def separar(tam_entren, clase0, clase1):\n",
    "    M = clase0.shape[0]+clase1.shape[0]\n",
    "    L = int(M*tam_entren)\n",
    "    print(L)\n",
    "    x_train = np.concatenate((clase0[:L//2], clase1[:L//2]))\n",
    "    print('x train: ', len(x_train))\n",
    "    x_val = np.concatenate((clase0[L//2:], clase1[L//2:]))\n",
    "    print('x val: ', len(x_val))\n",
    "    y_train = np.concatenate(((np.zeros(L//2)), np.ones(L//2)))\n",
    "    print('y train: ', len(y_train))\n",
    "    y_val = np.concatenate(((np.zeros(len(x_val)//2)), np.ones(len(x_val)//2)))\n",
    "    print('y val: ', len(y_val))\n",
    "\n",
    "    return x_train, y_train, x_val, y_val\n"
   ]
  },
  {
   "cell_type": "code",
   "execution_count": null,
   "metadata": {},
   "outputs": [],
   "source": [
    "'''pesos = np.random.normal(loc=1, scale=0.1, size=x_train.shape[1])\n",
    "b = np.random.normal(loc=0, scale=0.1, size=1)\n",
    "lr = 0.1\n",
    "#N = x_train.shape[0]\n",
    "perdida = []\n",
    "validacion = []\n",
    "\n",
    "for i in range(100):\n",
    "    optimizar(x_train, y_train)\n",
    "    perdida.append(loss(x_train, y_train))\n",
    "    validacion.append(loss(x_val, y_val))\n",
    "    \n",
    "plt.plot(perdida, color = 'red')\n",
    "plt.plot(validacion, color ='blue')\n",
    "plt.show()'''"
   ]
  },
  {
   "cell_type": "code",
   "execution_count": null,
   "metadata": {},
   "outputs": [],
   "source": [
    "#IRIS\n",
    "dataset = separar(0.3, clase0, clase1)\n",
    "x_train = dataset[0]\n",
    "y_train = dataset[1]\n",
    "x_val = dataset[2]\n",
    "y_val = dataset[3]\n",
    "\n",
    "pesos = np.random.normal(loc=1, scale=0.2, size=x_train.shape[1])\n",
    "b = np.random.normal(loc=1, scale=0.2, size=1)\n",
    "lr = 0.1\n",
    "#N = x_train.shape[0]\n",
    "perdida = []\n",
    "validacion = []\n",
    "\n",
    "for i in range(100):\n",
    "    optimizar(x_train, y_train)\n",
    "    perdida.append(loss(x_train, y_train))\n",
    "    validacion.append(loss(x_val, y_val))\n",
    "    \n",
    "plt.plot(perdida, color = 'red', label ='Error de entrenamiento')\n",
    "plt.plot(validacion, color ='blue', label='Error de validación')\n",
    "\n",
    "plt.title('Optimización del modelo')\n",
    "plt.xlabel('Epochs')\n",
    "plt.ylabel('Función de error')\n",
    "\n",
    "plt.legend()\n",
    "plt.show()"
   ]
  },
  {
   "cell_type": "code",
   "execution_count": null,
   "metadata": {},
   "outputs": [],
   "source": [
    "#Numero de puntos a generar\n",
    "num_points = 1000\n",
    "\n",
    "#Generar puntos aleatorios de 2D\n",
    "points_class_1a = np.random.randn(num_points // 2, 2) + np.array([2, 2])\n",
    "points_class_2a = np.random.randn(num_points // 2, 2) + np.array([-2, -2])\n",
    "\n",
    "#Combinar puntos\n",
    "points = np.vstack((points_class_1a, points_class_2a))\n",
    "\n",
    "#Poner etiquetas a los puntos (1 para clase 1, 0 para clase 2)\n",
    "labels = np.hstack((np.ones(num_points // 2), np.zeros(num_points // 2)))\n",
    "\n",
    "#Graficar\n",
    "plt.figure(figsize=(8, 6))\n",
    "plt.scatter(points_class_1a[:, 0], points_class_1a[:, 1], color='blue', label='Class 1')\n",
    "plt.scatter(points_class_2a[:, 0], points_class_2a[:, 1], color='red', label='Class 2')\n",
    "\n",
    "#Formato\n",
    "plt.title('Puntos aproximadamente linealmente separables')\n",
    "plt.xlabel('Eje X')\n",
    "plt.ylabel('Eje Y')\n",
    "plt.legend()\n",
    "\n",
    "plt.show()\n"
   ]
  },
  {
   "cell_type": "code",
   "execution_count": null,
   "metadata": {},
   "outputs": [],
   "source": [
    "#Numero de puntos a generar\n",
    "num_points = 1000\n",
    "\n",
    "#Definir el radio de separacion\n",
    "inner_radius = 2.5\n",
    "outer_radius = 3.5\n",
    "\n",
    "#Distribuir la clase 1 uniformemente en el circulo interno\n",
    "angles_class_1 = np.random.uniform(0, 2 * np.pi, num_points // 2)\n",
    "radii_class_1 = np.sqrt(np.random.uniform(0, inner_radius**2, num_points // 2))\n",
    "points_class_1 = np.vstack((radii_class_1 * np.cos(angles_class_1), radii_class_1 * np.sin(angles_class_1))).T\n",
    "\n",
    "#Generar la clase 2 fuera del circulo externo\n",
    "points_class_2 = np.random.randn(num_points // 2, 2)\n",
    "distances_class_2 = np.sqrt(points_class_2[:, 0]**2 + points_class_2[:, 1]**2)\n",
    "# Scale points so they fall outside the outer circle\n",
    "points_class_2 = points_class_2 * (outer_radius / distances_class_2[:, np.newaxis] + 1)\n",
    "\n",
    "# Graficar\n",
    "plt.figure(figsize=(8, 8))\n",
    "plt.scatter(points_class_1[:, 0], points_class_1[:, 1], color='blue', label='Clase 1')\n",
    "plt.scatter(points_class_2[:, 0], points_class_2[:, 1], color='red', label='Clase 2')\n",
    "\n",
    "#Formato\n",
    "plt.title('Puntos no linealmente separables')\n",
    "plt.xlabel('Eje X')\n",
    "plt.ylabel('Eje Y')\n",
    "plt.gca().set_aspect('equal', adjustable='box')\n",
    "plt.legend()\n",
    "\n",
    "plt.show()\n"
   ]
  },
  {
   "cell_type": "code",
   "execution_count": null,
   "metadata": {},
   "outputs": [],
   "source": [
    "#CASO LINEALMENTE SEPARABLE\n",
    "\n",
    "dataset = separar(0.7, points_class_1a, points_class_2a)\n",
    "x_train = dataset[0]\n",
    "y_train = dataset[1]\n",
    "x_val = dataset[2]\n",
    "y_val = dataset[3]\n",
    "\n",
    "pesos = np.random.normal(loc=1, scale=0.2, size=x_train.shape[1])\n",
    "b = np.random.normal(loc=1, scale=0.2, size=1)\n",
    "lr = 0.1\n",
    "#N = x_train.shape[0]\n",
    "perdida = []\n",
    "validacion = []\n",
    "\n",
    "for i in range(1000):\n",
    "    optimizar(x_train, y_train)\n",
    "    perdida.append(loss(x_train, y_train))\n",
    "    validacion.append(loss(x_val, y_val))\n",
    "    \n",
    "plt.plot(perdida, color = 'red', label ='Error de entrenamiento')\n",
    "plt.plot(validacion, color ='blue', label='Error de validación')\n",
    "\n",
    "plt.title('Optimización del modelo')\n",
    "plt.xlabel('Epochs')\n",
    "plt.ylabel('Función de error')\n",
    "\n",
    "plt.legend()\n",
    "plt.show()"
   ]
  },
  {
   "cell_type": "code",
   "execution_count": null,
   "metadata": {},
   "outputs": [],
   "source": [
    "#CASO NO LINEALMENTE SEPARABLE\n",
    "\n",
    "dataset = separar(0.7, points_class_1, points_class_2)\n",
    "x_train = dataset[0]\n",
    "y_train = dataset[1]\n",
    "x_val = dataset[2]\n",
    "y_val = dataset[3]\n",
    "\n",
    "pesos = np.random.normal(loc=1, scale=0.2, size=x_train.shape[1])\n",
    "b = np.random.normal(loc=1, scale=0.2, size=1)\n",
    "lr = 0.1\n",
    "#N = x_train.shape[0]\n",
    "perdida = []\n",
    "validacion = []\n",
    "\n",
    "for i in range(1000):\n",
    "    optimizar(x_train, y_train)\n",
    "    perdida.append(loss(x_train, y_train))\n",
    "    validacion.append(loss(x_val, y_val))\n",
    "    \n",
    "plt.plot(perdida, color = 'red', label ='Error de entrenamiento')\n",
    "plt.plot(validacion, color ='blue', label='Error de validación')\n",
    "\n",
    "plt.title('Optimización del modelo')\n",
    "plt.xlabel('Epochs')\n",
    "plt.ylabel('Función de error')\n",
    "\n",
    "plt.legend()\n",
    "plt.show()"
   ]
  }
 ],
 "metadata": {
  "kernelspec": {
   "display_name": "Python 3",
   "language": "python",
   "name": "python3"
  },
  "language_info": {
   "codemirror_mode": {
    "name": "ipython",
    "version": 3
   },
   "file_extension": ".py",
   "mimetype": "text/x-python",
   "name": "python",
   "nbconvert_exporter": "python",
   "pygments_lexer": "ipython3",
   "version": "3.10.3"
  }
 },
 "nbformat": 4,
 "nbformat_minor": 2
}
