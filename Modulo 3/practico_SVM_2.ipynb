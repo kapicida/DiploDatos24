{
  "cells": [
    {
      "cell_type": "markdown",
      "metadata": {
        "id": "uTLI4rFagHhs"
      },
      "source": [
        "### Midiendo la edad biológica\n",
        "\n",
        "Los científicos definen dos tipos principales de edad: la *edad cronológica* y la *edad biológica*. La edad cronológica se basa en cuánto tiempo has estado vivo (años desde el nacimiento), mientras que la edad biológica es una estimación aproximada de la salud de tu cuerpo al medir diferentes biomarcadores.\n",
        "Una forma de determinar la edad biológica es medir los niveles de metilación en tu genoma. En sitios conocidos como sitios CpG, a lo largo de tu ADN, varias proteínas pueden agregar o quitar grupos metilo para controlar qué genes se expresan en proteínas y cuáles no. A medida que envejeces, sin embargo, los sistemas responsables de mantener este control del genoma comienzan a deteriorarse, lo que provoca errores en la metilación.\n",
        "\n",
        "El Dr. Steve Horvath, investigador de longevidad en la UCLA, utilizó datos de metilación de ADN para desarrollar un sistema conocido como el **reloj de envejecimiento de Horvath** (Horvath clock), que es capaz de generar una estimación precisa de tu edad biológica. Por ejemplo, después de analizar los niveles de metilación en una muestra de tus células, el reloj podría indicarte que tu edad biológica es de alrededor de 30 años, lo que básicamente significa que tus niveles de metilación (y la salud de tu cuerpo) son similares a los de una persona promedio de 30 años. Si tu edad real está alrededor de los 40 años, esto significa que llevas un estilo de vida saludable, mientras que si solo tienes 20 años, esto sugiere que llevas un estilo de vida poco saludable. Esta información proporciona a las personas el conocimiento necesario para tomar el control de su estilo de vida y vivir de manera saludable.\n",
        "\n",
        "En este notebook vamos a intentar replicar el reloj epigenético desarrollado por Horvath, utilizando datos de metilación tomados de muestras de sangre (X) para predecir la edad de un individuo (y)."
      ]
    },
    {
      "cell_type": "code",
      "execution_count": null,
      "metadata": {
        "id": "Wd7DWzpn7Lee"
      },
      "outputs": [],
      "source": [
        "import pandas as pd\n",
        "import numpy as np\n",
        "import matplotlib.pyplot as plt\n",
        "\n",
        "from sklearn.utils import shuffle\n",
        "from sklearn import preprocessing\n",
        "from sklearn.preprocessing import StandardScaler\n",
        "from sklearn.model_selection import train_test_split\n",
        "\n",
        "from sklearn import linear_model"
      ]
    },
    {
      "cell_type": "code",
      "execution_count": null,
      "metadata": {
        "colab": {
          "base_uri": "https://localhost:8080/",
          "height": 205
        },
        "id": "oLZIYgpN8kMP",
        "outputId": "e78c167c-1d79-42f6-c1d7-1fd832f90259"
      },
      "outputs": [],
      "source": [
        "#Importar los datos de metilación de pacientes sanos usando Pandas\n",
        "path = \"Healthy_Methylation_Dataset.csv\"\n",
        "healthy_df = pd.read_csv(path)\n",
        "healthy_df.head()"
      ]
    },
    {
      "cell_type": "markdown",
      "metadata": {
        "id": "nvjplfViOBMi"
      },
      "source": [
        "### Pre-procesamiento de los datos\n"
      ]
    },
    {
      "cell_type": "code",
      "execution_count": null,
      "metadata": {
        "colab": {
          "base_uri": "https://localhost:8080/",
          "height": 205
        },
        "id": "4S3zJn5vNCIW",
        "outputId": "e57360e4-6075-49ac-875c-30a2425b33b8"
      },
      "outputs": [],
      "source": [
        "# Shuffle dataframe to randomize data order, possibly preventing confounding factors\n",
        "healthy_df = shuffle(healthy_df)\n",
        "\n",
        "# Remove patient ID column\n",
        "healthy_df = healthy_df.drop(['...1'], axis=1)\n",
        "\n",
        "# Drop all rows with NaN values\n",
        "healthy_df = healthy_df.dropna()\n",
        "\n",
        "# Reset Index\n",
        "healthy_df.reset_index(inplace=True, drop=True)\n",
        "\n",
        "healthy_df.head()"
      ]
    },
    {
      "cell_type": "code",
      "execution_count": null,
      "metadata": {
        "colab": {
          "base_uri": "https://localhost:8080/",
          "height": 685
        },
        "id": "zT4eFMqetj69",
        "outputId": "27d27464-2f55-4552-b035-f8935c52bb4e"
      },
      "outputs": [],
      "source": [
        "#Mapa de calor\n",
        "\n",
        "import seaborn as sb\n",
        "C_mat = healthy_df.corr()\n",
        "\n",
        "fig = plt.figure(figsize = (8,8))\n",
        "\n",
        "sb.heatmap(C_mat, vmax=1, square=True)\n",
        "plt.show()"
      ]
    },
    {
      "cell_type": "markdown",
      "metadata": {
        "id": "tRfQtmHKPBu1"
      },
      "source": [
        "### Normalización y division de los datos en conjuntos de entrenamiento y prueba\n",
        "\n",
        "El escalado de datos es una práctica recomendada en la mayoría de los casos para mejorar el rendimiento y la estabilidad de los algoritmos de aprendizaje automático, incluyendo SVM."
      ]
    },
    {
      "cell_type": "code",
      "execution_count": null,
      "metadata": {
        "id": "cUul2_t9NCSw"
      },
      "outputs": [],
      "source": [
        "# Normalizing the methylation and sex data with a Standard Scaler.\n",
        "X = healthy_df[['cg09809672', 'cg22736354', 'cg02228185', 'cg01820374', 'cg06493994', 'cg19761273', 'sex']]\n",
        "\n",
        "# Separating X vs. y dataframes\n",
        "std_scaler = StandardScaler()\n",
        "X_std = pd.DataFrame(std_scaler.fit_transform(X), columns=X.columns)\n",
        "y = healthy_df['age']"
      ]
    },
    {
      "cell_type": "code",
      "execution_count": null,
      "metadata": {
        "id": "E5kOQ6luSPKX"
      },
      "outputs": [],
      "source": [
        "# Separating dataset into train and test subsets\n",
        "X_train, X_test, y_train, y_test = train_test_split(X, y, test_size = 0.33, random_state = 42)"
      ]
    },
    {
      "cell_type": "markdown",
      "metadata": {
        "id": "5xIzF3-hTPS4"
      },
      "source": [
        "### Entrenamiento de un modelo de regresion lineal"
      ]
    },
    {
      "cell_type": "code",
      "execution_count": null,
      "metadata": {
        "id": "7taaV0neTLNY"
      },
      "outputs": [],
      "source": [
        "# Training the multivariate linear regression model\n",
        "linear_regressor = linear_model.LinearRegression()\n",
        "linear_regressor.fit(X_train, y_train)\n"
      ]
    },
    {
      "cell_type": "markdown",
      "metadata": {
        "id": "Gao766mGj8cW"
      },
      "source": [
        "### Evaluación del modelo de regresion lineal"
      ]
    },
    {
      "cell_type": "code",
      "execution_count": null,
      "metadata": {
        "id": "FzJDCthvbMUL"
      },
      "outputs": [],
      "source": [
        "# Evaluación en el conjunto de prueba (coeficiente de determinación (R-cuadrado))\n",
        "print(linear_regressor.score(X_test, y_test))"
      ]
    },
    {
      "cell_type": "code",
      "execution_count": null,
      "metadata": {
        "colab": {
          "base_uri": "https://localhost:8080/"
        },
        "id": "dgE2vzvfiFyg",
        "outputId": "762aea13-5abd-42bb-c062-58416f4aac4e"
      },
      "outputs": [],
      "source": [
        "predictions = linear_regressor.predict(X_test)\n",
        "\n",
        "# Since age cannot be negative, changing all negative predictions to age 0\n",
        "for n, element in enumerate(predictions):\n",
        "    if element < 0:\n",
        "        predictions[n] = 0\n",
        "\n",
        "# Looking at sample predictions for the testing set\n",
        "for i in range(0, 10):\n",
        "    print(\"Predicción:\", predictions[i], \"\\tEdad real:\", y_test.iloc[i])"
      ]
    },
    {
      "cell_type": "markdown",
      "metadata": {
        "id": "GNUCcQD2m1OO"
      },
      "source": [
        "Veamos si podemos mejorar la capacidad predictiva del modelo usando SVM.\n",
        "\n",
        "### Maquinas de Soporte Vectorial para Regresión (SVR)\n",
        "\n",
        "Similar a las SVM, las SVR utilizan el concepto de un hiperplano y un margen, pero existen diferencias en sus definiciones. En SVR, el margen se define como una región de tolerancia al error del modelo, que también se llama \"tubo ε-insensible\".  Esto crea un equilibrio entre la complejidad del modelo y su capacidad de generalización.\n"
      ]
    },
    {
      "cell_type": "code",
      "execution_count": null,
      "metadata": {
        "id": "-9w533W4m0ja"
      },
      "outputs": [],
      "source": [
        "#Entrenamiendo de un modelo SVR\n",
        "from sklearn.svm import SVR\n",
        "\n",
        "svr = SVR(kernel='rbf', epsilon=0.1, gamma= 'scale', C=100.0)\n",
        "svr.fit(X_train, y_train)"
      ]
    },
    {
      "cell_type": "code",
      "execution_count": null,
      "metadata": {
        "colab": {
          "base_uri": "https://localhost:8080/"
        },
        "id": "pddGU63HbbGt",
        "outputId": "44d2d5ad-df70-4714-c983-71d5625ea990"
      },
      "outputs": [],
      "source": [
        "#Evaluación del modelo SVR\n",
        "svr.score(X_test, y_test)"
      ]
    },
    {
      "cell_type": "code",
      "execution_count": null,
      "metadata": {
        "colab": {
          "base_uri": "https://localhost:8080/"
        },
        "id": "4AvaMEKcUOWu",
        "outputId": "87c8755e-1a8a-440b-e06d-b2d029b0ec8b"
      },
      "outputs": [],
      "source": [
        "predictions = svr.predict(X_test)\n",
        "\n",
        "# Since age cannot be negative, changing all negative predictions to age 0\n",
        "for n, element in enumerate(predictions):\n",
        "    if element < 0:\n",
        "        predictions[n] = 0\n",
        "\n",
        "# Looking at sample predictions for the testing set\n",
        "for i in range(0, 10):\n",
        "  print(\"Prediccion:\", predictions[i],\"\\tEdad real:\", y_test.iloc[i])"
      ]
    },
    {
      "cell_type": "markdown",
      "metadata": {
        "id": "vvruZFTOC_fA"
      },
      "source": [
        "Como vemos, el reloj SVR predice un poco mejor la edad de individuos sanos.\n",
        "\n",
        "A continuación se muestra un grafico de residuos que permite evaluar la calidad del modelo de regresión SVR."
      ]
    },
    {
      "cell_type": "code",
      "execution_count": null,
      "metadata": {
        "colab": {
          "base_uri": "https://localhost:8080/",
          "height": 560
        },
        "id": "mWQZ7zgmV1nx",
        "outputId": "a9ccf11c-9aa4-4101-953d-8671b05724ab"
      },
      "outputs": [],
      "source": [
        "from yellowbrick.regressor import ResidualsPlot\n",
        "visualizer = ResidualsPlot(svr, title=\"Gráfico de residuos para Edad Real vs. Predicha en el cohorte de pacientes sanos\")\n",
        "\n",
        "visualizer.score(X_test, y_test)\n",
        "visualizer.show()"
      ]
    },
    {
      "cell_type": "markdown",
      "metadata": {
        "id": "nk4cskMu_AQI"
      },
      "source": [
        "### Ajuste de los hiperparámetros"
      ]
    },
    {
      "cell_type": "code",
      "execution_count": null,
      "metadata": {
        "colab": {
          "base_uri": "https://localhost:8080/"
        },
        "id": "AI6R4Ib7-vx4",
        "outputId": "6d032428-d036-436d-883a-71ef96a3c60e"
      },
      "outputs": [],
      "source": [
        "from sklearn.model_selection import GridSearchCV\n",
        "\n",
        "#Ajuste de hiperparametro: kernel, epsilon y C mediante Validación Cruzada\n",
        "\n",
        "# Define la rejilla de hiperparámetros a buscar\n",
        "param_grid = {'kernel': ['rbf', 'linear'],\n",
        "    'epsilon': [0.1, 0.2, 0.5, 0.7, 1.0],\n",
        "    'C': [1, 10, 100]\n",
        "}\n",
        "\n",
        "# Crea un objeto GridSearchCV\n",
        "grid_search = GridSearchCV(estimator=svr, param_grid=param_grid, cv=5, scoring='neg_mean_squared_error')\n",
        "\n",
        "# Ajusta el modelo a los datos de entrenamiento\n",
        "grid_search.fit(X_train, y_train)\n",
        "\n",
        "# Imprime la mejor combinación de hiperparámetros encontrada\n",
        "grid_search.best_params_"
      ]
    },
    {
      "cell_type": "code",
      "execution_count": null,
      "metadata": {
        "colab": {
          "base_uri": "https://localhost:8080/"
        },
        "id": "L0CkuLqs_uXF",
        "outputId": "24bdb5e2-6f57-49f5-830a-4290a0bd192e"
      },
      "outputs": [],
      "source": [
        "#Reentrenamos el modelo usando el mejor set de hiperparámetros\n",
        "svr = SVR(kernel=grid_search.best_params_['kernel'], epsilon=grid_search.best_params_['epsilon'], gamma= 'scale', C=grid_search.best_params_['C'])\n",
        "svr.fit(X_train, y_train)\n",
        "svr.score(X_test, y_test)\n"
      ]
    },
    {
      "cell_type": "markdown",
      "metadata": {
        "id": "Aw9lg3PqboXb"
      },
      "source": [
        "### Prueba en pacientes enfermos\n",
        "\n",
        "El modelo SVR es capaz de predecir con relativa precisión la edad de individuos sanos basándose en sus niveles de metilación.\n",
        "\n",
        "Entrenamos el modelo con datos de indivudos sanos porque se supone que en este cohorte la edad biológica no debería diferir demasiado de su edad cronológica.\n",
        "\n",
        "Sin embargo, es de esperar que personas enfermas muestren niveles de metilación correspondientes a una peor edad biológica. Para probar esta suposicion, importamos un conjunto de datos de alrededor de 627 individuos enfermos (después de eliminar los valores faltantes) y utilizamos el modelo SVR pre-entrenado para comparar la edad biológica predicha con su edad cronológica real."
      ]
    },
    {
      "cell_type": "code",
      "execution_count": null,
      "metadata": {
        "colab": {
          "base_uri": "https://localhost:8080/",
          "height": 205
        },
        "id": "h55s6E0GBHi5",
        "outputId": "0a74bc39-c2b0-4de1-c91f-6739c12922b3"
      },
      "outputs": [],
      "source": [
        "#Importar los datos de metilación de pacientes enfermos usando Pandas\n",
        "path = \"Disease_Methylation_Dataset.csv\"\n",
        "disease_df = pd.read_csv(path)\n",
        "disease_df.head()"
      ]
    },
    {
      "cell_type": "code",
      "execution_count": null,
      "metadata": {
        "colab": {
          "base_uri": "https://localhost:8080/",
          "height": 205
        },
        "id": "B9g4bZN5T2L8",
        "outputId": "e4e51367-a6a1-4199-de63-26e1f60907a4"
      },
      "outputs": [],
      "source": [
        "# Remove patient ID column\n",
        "disease_df = disease_df.drop(['Unnamed: 0'], axis=1)\n",
        "\n",
        "# Drop all rows with NaN values\n",
        "disease_df = disease_df.dropna()\n",
        "\n",
        "disease_df.head()"
      ]
    },
    {
      "cell_type": "code",
      "execution_count": null,
      "metadata": {
        "id": "kp_fj4KMnE3O"
      },
      "outputs": [],
      "source": [
        "disease_X = disease_df[['cg09809672', 'cg22736354', 'cg02228185', 'cg01820374', 'cg06493994', 'cg19761273', 'sex']]\n",
        "disease_X = pd.DataFrame(std_scaler.fit_transform(disease_X), columns=disease_X.columns)\n",
        "#se aplico el mismo escalado de datos que antes para poder comparar las predicciones\n",
        "disease_Y = disease_df['age']"
      ]
    },
    {
      "cell_type": "code",
      "execution_count": null,
      "metadata": {
        "id": "6alMW-5vpePX"
      },
      "outputs": [],
      "source": [
        "disease_predictions = svr.predict(disease_X)"
      ]
    },
    {
      "cell_type": "code",
      "execution_count": null,
      "metadata": {
        "colab": {
          "base_uri": "https://localhost:8080/",
          "height": 504
        },
        "id": "I5uByJjKraXd",
        "outputId": "e14cd996-f944-4447-aa7b-f20e13e6e71a"
      },
      "outputs": [],
      "source": [
        "plt.plot(disease_predictions)\n",
        "plt.plot(disease_Y)\n",
        "plt.title(\" Edad real vs. predicha en pacientes enfermos\")\n",
        "plt.ylabel('Edad')\n",
        "plt.legend(['Edad predicha', 'Edad real'], loc='upper left')\n",
        "plt.show()"
      ]
    }
  ],
  "metadata": {
    "colab": {
      "provenance": []
    },
    "kernelspec": {
      "display_name": "Python 3",
      "name": "python3"
    },
    "language_info": {
      "codemirror_mode": {
        "name": "ipython",
        "version": 3
      },
      "file_extension": ".py",
      "mimetype": "text/x-python",
      "name": "python",
      "nbconvert_exporter": "python",
      "pygments_lexer": "ipython3",
      "version": "3.10.3"
    }
  },
  "nbformat": 4,
  "nbformat_minor": 0
}
